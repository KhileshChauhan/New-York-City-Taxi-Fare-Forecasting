{
  "nbformat": 4,
  "nbformat_minor": 0,
  "metadata": {
    "colab": {
      "name": "3. Predictive Algorithms.ipynb",
      "provenance": [],
      "collapsed_sections": [],
      "toc_visible": true,
      "include_colab_link": true
    },
    "kernelspec": {
      "name": "python3",
      "display_name": "Python 3"
    }
  },
  "cells": [
    {
      "cell_type": "markdown",
      "metadata": {
        "id": "view-in-github",
        "colab_type": "text"
      },
      "source": [
        "<a href=\"https://colab.research.google.com/github/jasur-rasulov/New-York-City-Taxi-Fare-Forecasting/blob/master/3.%20Predictive_Algorithms.ipynb\" target=\"_parent\"><img src=\"https://colab.research.google.com/assets/colab-badge.svg\" alt=\"Open In Colab\"/></a>"
      ]
    },
    {
      "cell_type": "markdown",
      "metadata": {
        "id": "V1effEcd6C_5",
        "colab_type": "text"
      },
      "source": [
        "## *Predictive Algortihms*\n",
        "\n",
        "---"
      ]
    },
    {
      "cell_type": "markdown",
      "metadata": {
        "id": "wXm-QyMdRT6V",
        "colab_type": "text"
      },
      "source": [
        "### Pre-Processing the Data for Modeling"
      ]
    },
    {
      "cell_type": "code",
      "metadata": {
        "id": "EFf6BdK4RXSV",
        "colab_type": "code",
        "colab": {}
      },
      "source": [
        "labels = np.array(train['fare_amount'])\n",
        "train1 = train.drop('fare_amount', axis = 1)\n",
        "train1 = train1.drop('pickup_datetime', axis = 1)\n",
        "train1 = train1.drop('key', axis = 1)\n",
        "attributes_list = list(train1.columns)\n",
        "train_rf = np.array(train1)"
      ],
      "execution_count": 0,
      "outputs": []
    },
    {
      "cell_type": "code",
      "metadata": {
        "id": "23QCBIiORhO4",
        "colab_type": "code",
        "colab": {}
      },
      "source": [
        "from sklearn.model_selection import train_test_split\n",
        "train_features, test_features, train_labels, test_labels = train_test_split(train1, labels, test_size = 0.2, random_state = 42)"
      ],
      "execution_count": 0,
      "outputs": []
    },
    {
      "cell_type": "markdown",
      "metadata": {
        "colab_type": "text",
        "id": "D2GA-h1cR5kd"
      },
      "source": [
        "### *Linear Regression*\n",
        "\n",
        "---"
      ]
    },
    {
      "cell_type": "code",
      "metadata": {
        "id": "N2AtpMqmr_Xk",
        "colab_type": "code",
        "colab": {}
      },
      "source": [
        "from sklearn.linear_model import LinearRegression\n",
        "LR = LinearRegression()"
      ],
      "execution_count": 0,
      "outputs": []
    },
    {
      "cell_type": "code",
      "metadata": {
        "id": "qF6K1hRBNqNv",
        "colab_type": "code",
        "outputId": "291e7ed0-d679-4a24-8666-e8c7da09eb5f",
        "colab": {
          "base_uri": "https://localhost:8080/",
          "height": 51
        }
      },
      "source": [
        "LR.fit(train_features, train_labels)"
      ],
      "execution_count": 0,
      "outputs": [
        {
          "output_type": "execute_result",
          "data": {
            "text/plain": [
              "LinearRegression(copy_X=True, fit_intercept=True, n_jobs=None,\n",
              "         normalize=False)"
            ]
          },
          "metadata": {
            "tags": []
          },
          "execution_count": 29
        }
      ]
    },
    {
      "cell_type": "code",
      "metadata": {
        "id": "EzfNJHaMOOD2",
        "colab_type": "code",
        "outputId": "46a8a3d2-b71d-4397-b8bd-ad757c3033ec",
        "colab": {
          "base_uri": "https://localhost:8080/",
          "height": 34
        }
      },
      "source": [
        "LRpredictions = LR.predict(test_features)\n",
        "LRerrors = abs(LRpredictions - test_labels)\n",
        "print('Mean Absolute Error:', \"$\",round(np.mean(LRerrors), 2))"
      ],
      "execution_count": 0,
      "outputs": [
        {
          "output_type": "stream",
          "text": [
            "Mean Absolute Error: $ 5.99\n"
          ],
          "name": "stdout"
        }
      ]
    },
    {
      "cell_type": "code",
      "metadata": {
        "id": "h6GJaqK8ODmL",
        "colab_type": "code",
        "outputId": "82819e3b-a3fc-4695-b424-d626616651cc",
        "colab": {
          "base_uri": "https://localhost:8080/",
          "height": 34
        }
      },
      "source": [
        "LRmape = 100 * (LRerrors / test_labels)\n",
        "LRaccuracy = 100 - np.mean(LRmape)\n",
        "print('Accuracy:', round(LRaccuracy, 2), '%.')"
      ],
      "execution_count": 0,
      "outputs": [
        {
          "output_type": "stream",
          "text": [
            "Accuracy: 32.39 %.\n"
          ],
          "name": "stdout"
        }
      ]
    },
    {
      "cell_type": "markdown",
      "metadata": {
        "id": "oO8OcPui-bEu",
        "colab_type": "text"
      },
      "source": [
        "### *Random Forests*"
      ]
    },
    {
      "cell_type": "code",
      "metadata": {
        "id": "DeP9WzTjRLH_",
        "colab_type": "code",
        "colab": {}
      },
      "source": [
        "from sklearn.ensemble import RandomForestRegressor\n",
        "rf = RandomForestRegressor(n_estimators = 250, random_state = 561)"
      ],
      "execution_count": 0,
      "outputs": []
    },
    {
      "cell_type": "code",
      "metadata": {
        "id": "TO-dqJMrRyEY",
        "colab_type": "code",
        "outputId": "901a2c25-46df-4126-842b-af41acc3fdf9",
        "colab": {
          "base_uri": "https://localhost:8080/",
          "height": 119
        }
      },
      "source": [
        "rf.fit(train_features, train_labels)"
      ],
      "execution_count": 0,
      "outputs": [
        {
          "output_type": "execute_result",
          "data": {
            "text/plain": [
              "RandomForestRegressor(bootstrap=True, criterion='mse', max_depth=None,\n",
              "           max_features='auto', max_leaf_nodes=None,\n",
              "           min_impurity_decrease=0.0, min_impurity_split=None,\n",
              "           min_samples_leaf=1, min_samples_split=2,\n",
              "           min_weight_fraction_leaf=0.0, n_estimators=250, n_jobs=None,\n",
              "           oob_score=False, random_state=561, verbose=0, warm_start=False)"
            ]
          },
          "metadata": {
            "tags": []
          },
          "execution_count": 33
        }
      ]
    },
    {
      "cell_type": "code",
      "metadata": {
        "id": "fymrC6yJVUmC",
        "colab_type": "code",
        "outputId": "bf3e919d-e768-4777-f94a-6c3e8b10505a",
        "colab": {
          "base_uri": "https://localhost:8080/",
          "height": 34
        }
      },
      "source": [
        "predictions = rf.predict(test_features)\n",
        "errors = abs(predictions - test_labels)\n",
        "print('Mean Absolute Error:', \"$\",round(np.mean(errors), 2))"
      ],
      "execution_count": 0,
      "outputs": [
        {
          "output_type": "stream",
          "text": [
            "Mean Absolute Error: $ 1.96\n"
          ],
          "name": "stdout"
        }
      ]
    },
    {
      "cell_type": "code",
      "metadata": {
        "id": "7SvM_2pqTC6e",
        "colab_type": "code",
        "outputId": "d08266ff-9f49-46d2-ccc7-171f4f8ca730",
        "colab": {
          "base_uri": "https://localhost:8080/",
          "height": 34
        }
      },
      "source": [
        "# Calculate mean absolute percentage error (MAPE) and Accuracy\n",
        "mape = 100 * (errors / test_labels)\n",
        "accuracy = 100 - np.mean(mape)\n",
        "print('Accuracy:', round(accuracy, 2), '%.')"
      ],
      "execution_count": 0,
      "outputs": [
        {
          "output_type": "stream",
          "text": [
            "Accuracy: 73.66 %.\n"
          ],
          "name": "stdout"
        }
      ]
    },
    {
      "cell_type": "code",
      "metadata": {
        "id": "zM8b1BuPbX2d",
        "colab_type": "code",
        "outputId": "af0da1fc-0df1-4a95-e232-35ed743ddaff",
        "colab": {
          "base_uri": "https://localhost:8080/",
          "height": 71
        }
      },
      "source": [
        "# Get numerical feature importances\n",
        "print(\"Features sorted by their score:\")\n",
        "print(sorted(zip(map(lambda x: round(x, 4), rf.feature_importances_), attributes_list), \n",
        "             reverse=True))"
      ],
      "execution_count": 0,
      "outputs": [
        {
          "output_type": "stream",
          "text": [
            "Features sorted by their score:\n",
            "[(0.7189, 'distance_miles'), (0.044, 'abs_diff_longitude'), (0.0422, 'dropoff_longitude'), (0.0282, 'dropoff_latitude'), (0.0256, 'pickup_longitude'), (0.0193, 'pickup_latitude'), (0.0193, 'abs_diff_latitude'), (0.0184, 'Date'), (0.0144, 'Month'), (0.0143, 'year'), (0.0141, 'Year'), (0.0119, 'hour'), (0.0117, 'Hour'), (0.0064, 'weekday'), (0.0064, 'Day of Week'), (0.005, 'passenger_count')]\n"
          ],
          "name": "stdout"
        }
      ]
    },
    {
      "cell_type": "markdown",
      "metadata": {
        "id": "sHZqWTx96XvT",
        "colab_type": "text"
      },
      "source": [
        "### *Gradient Boosted Models*\n",
        "\n",
        "---"
      ]
    },
    {
      "cell_type": "code",
      "metadata": {
        "id": "sr89kSHv6fcV",
        "colab_type": "code",
        "colab": {}
      },
      "source": [
        "\"\"\"Preprocessing and metrics\"\"\"\n",
        "from sklearn import preprocessing\n",
        "from sklearn.model_selection import train_test_split\n",
        "from sklearn.metrics import mean_absolute_error, mean_squared_error, r2_score\n",
        "\n",
        "\"\"\"Regressors\"\"\"\n",
        "import xgboost as xgb\n",
        "from sklearn.ensemble import RandomForestRegressor\n",
        "from sklearn.ensemble import GradientBoostingRegressor\n",
        "from sklearn.ensemble import AdaBoostRegressor\n",
        "% matplotlib inline"
      ],
      "execution_count": 0,
      "outputs": []
    },
    {
      "cell_type": "markdown",
      "metadata": {
        "id": "94jqK7TCEvXU",
        "colab_type": "text"
      },
      "source": [
        "#### Removing fake fares"
      ]
    },
    {
      "cell_type": "code",
      "metadata": {
        "id": "99iE6rulExC-",
        "colab_type": "code",
        "outputId": "4a3ca2b6-a74a-4609-e81a-50556a96ec3d",
        "colab": {
          "base_uri": "https://localhost:8080/",
          "height": 34
        }
      },
      "source": [
        "k = 0\n",
        "for i in data.fare_amount:\n",
        "    if i < 0:\n",
        "        k += 1\n",
        "print(\"Number of fake fares: \", k)"
      ],
      "execution_count": 0,
      "outputs": [
        {
          "output_type": "stream",
          "text": [
            "Number of fake fares:  0\n"
          ],
          "name": "stdout"
        }
      ]
    },
    {
      "cell_type": "code",
      "metadata": {
        "id": "JBSsFQGvE26v",
        "colab_type": "code",
        "outputId": "af15fe33-9b04-41c6-9bbc-163343a75a7a",
        "colab": {
          "base_uri": "https://localhost:8080/",
          "height": 51
        }
      },
      "source": [
        "print('Length of original data: %d' % len(data))\n",
        "data = data[data.fare_amount>=0]\n",
        "print('Lengh of new data: %d' % len(data))"
      ],
      "execution_count": 0,
      "outputs": [
        {
          "output_type": "stream",
          "text": [
            "Length of original data: 1957918\n",
            "Lengh of new data: 1957918\n"
          ],
          "name": "stdout"
        }
      ]
    },
    {
      "cell_type": "markdown",
      "metadata": {
        "id": "NAEq6t6YE7bH",
        "colab_type": "text"
      },
      "source": [
        "#### Adding new features"
      ]
    },
    {
      "cell_type": "code",
      "metadata": {
        "id": "4uTvT8CGE80G",
        "colab_type": "code",
        "colab": {}
      },
      "source": [
        "data['lon_change'] = abs(data.dropoff_longitude - data.pickup_longitude)\n",
        "data['lat_change'] = abs(data.dropoff_latitude - data.pickup_latitude)\n",
        "\n",
        "features_train  = ['pickup_longitude',\n",
        "               'pickup_latitude',\n",
        "               'dropoff_longitude',\n",
        "               'dropoff_latitude',\n",
        "               'lat_change',\n",
        "               'lon_change']"
      ],
      "execution_count": 0,
      "outputs": []
    },
    {
      "cell_type": "code",
      "metadata": {
        "id": "3y2vJ1YBFLI7",
        "colab_type": "code",
        "outputId": "aec58e34-df71-4007-f727-a0cecfe3f14a",
        "colab": {
          "base_uri": "https://localhost:8080/",
          "height": 51
        }
      },
      "source": [
        "Y = data.fare_amount.as_matrix()\n",
        "X = data[features_train]"
      ],
      "execution_count": 0,
      "outputs": [
        {
          "output_type": "stream",
          "text": [
            "/usr/local/lib/python3.6/dist-packages/ipykernel_launcher.py:1: FutureWarning: Method .as_matrix will be removed in a future version. Use .values instead.\n",
            "  \"\"\"Entry point for launching an IPython kernel.\n"
          ],
          "name": "stderr"
        }
      ]
    },
    {
      "cell_type": "code",
      "metadata": {
        "id": "cDPuFkHjFNbs",
        "colab_type": "code",
        "colab": {}
      },
      "source": [
        "Y = np.reshape(Y,(Y.shape[0],1))"
      ],
      "execution_count": 0,
      "outputs": []
    },
    {
      "cell_type": "code",
      "metadata": {
        "id": "LfbTPrdoFOes",
        "colab_type": "code",
        "outputId": "96614623-9033-45b6-89ae-a81a3cdabbf5",
        "colab": {
          "base_uri": "https://localhost:8080/",
          "height": 204
        }
      },
      "source": [
        "X.head()"
      ],
      "execution_count": 0,
      "outputs": [
        {
          "output_type": "execute_result",
          "data": {
            "text/html": [
              "<div>\n",
              "<style scoped>\n",
              "    .dataframe tbody tr th:only-of-type {\n",
              "        vertical-align: middle;\n",
              "    }\n",
              "\n",
              "    .dataframe tbody tr th {\n",
              "        vertical-align: top;\n",
              "    }\n",
              "\n",
              "    .dataframe thead th {\n",
              "        text-align: right;\n",
              "    }\n",
              "</style>\n",
              "<table border=\"1\" class=\"dataframe\">\n",
              "  <thead>\n",
              "    <tr style=\"text-align: right;\">\n",
              "      <th></th>\n",
              "      <th>pickup_longitude</th>\n",
              "      <th>pickup_latitude</th>\n",
              "      <th>dropoff_longitude</th>\n",
              "      <th>dropoff_latitude</th>\n",
              "      <th>lat_change</th>\n",
              "      <th>lon_change</th>\n",
              "    </tr>\n",
              "  </thead>\n",
              "  <tbody>\n",
              "    <tr>\n",
              "      <th>0</th>\n",
              "      <td>-73.844311</td>\n",
              "      <td>40.721319</td>\n",
              "      <td>-73.841610</td>\n",
              "      <td>40.712278</td>\n",
              "      <td>0.009041</td>\n",
              "      <td>0.002701</td>\n",
              "    </tr>\n",
              "    <tr>\n",
              "      <th>1</th>\n",
              "      <td>-74.016048</td>\n",
              "      <td>40.711303</td>\n",
              "      <td>-73.979268</td>\n",
              "      <td>40.782004</td>\n",
              "      <td>0.070701</td>\n",
              "      <td>0.036780</td>\n",
              "    </tr>\n",
              "    <tr>\n",
              "      <th>2</th>\n",
              "      <td>-73.982738</td>\n",
              "      <td>40.761270</td>\n",
              "      <td>-73.991242</td>\n",
              "      <td>40.750562</td>\n",
              "      <td>0.010708</td>\n",
              "      <td>0.008504</td>\n",
              "    </tr>\n",
              "    <tr>\n",
              "      <th>3</th>\n",
              "      <td>-73.987130</td>\n",
              "      <td>40.733143</td>\n",
              "      <td>-73.991567</td>\n",
              "      <td>40.758092</td>\n",
              "      <td>0.024949</td>\n",
              "      <td>0.004437</td>\n",
              "    </tr>\n",
              "    <tr>\n",
              "      <th>4</th>\n",
              "      <td>-73.968095</td>\n",
              "      <td>40.768008</td>\n",
              "      <td>-73.956655</td>\n",
              "      <td>40.783762</td>\n",
              "      <td>0.015754</td>\n",
              "      <td>0.011440</td>\n",
              "    </tr>\n",
              "  </tbody>\n",
              "</table>\n",
              "</div>"
            ],
            "text/plain": [
              "   pickup_longitude  pickup_latitude  dropoff_longitude  dropoff_latitude  \\\n",
              "0        -73.844311        40.721319         -73.841610         40.712278   \n",
              "1        -74.016048        40.711303         -73.979268         40.782004   \n",
              "2        -73.982738        40.761270         -73.991242         40.750562   \n",
              "3        -73.987130        40.733143         -73.991567         40.758092   \n",
              "4        -73.968095        40.768008         -73.956655         40.783762   \n",
              "\n",
              "   lat_change  lon_change  \n",
              "0    0.009041    0.002701  \n",
              "1    0.070701    0.036780  \n",
              "2    0.010708    0.008504  \n",
              "3    0.024949    0.004437  \n",
              "4    0.015754    0.011440  "
            ]
          },
          "metadata": {
            "tags": []
          },
          "execution_count": 51
        }
      ]
    },
    {
      "cell_type": "markdown",
      "metadata": {
        "id": "iAzxkX0QFUHz",
        "colab_type": "text"
      },
      "source": [
        "#### Scaling the Y vector"
      ]
    },
    {
      "cell_type": "code",
      "metadata": {
        "id": "I8dauMf5FVTx",
        "colab_type": "code",
        "colab": {}
      },
      "source": [
        "min_max_scaler = preprocessing.MinMaxScaler()\n",
        "Y = min_max_scaler.fit_transform(Y)"
      ],
      "execution_count": 0,
      "outputs": []
    },
    {
      "cell_type": "markdown",
      "metadata": {
        "id": "Tiv8CgBpFa7Y",
        "colab_type": "text"
      },
      "source": [
        "#### Prepping data for GBM and Regression Modules"
      ]
    },
    {
      "cell_type": "code",
      "metadata": {
        "id": "wmpM3TXZFe2i",
        "colab_type": "code",
        "colab": {}
      },
      "source": [
        "Xtrain, Xtest, Ytrain, Ytest = train_test_split(X, Y, test_size=0.33, random_state=42)"
      ],
      "execution_count": 0,
      "outputs": []
    },
    {
      "cell_type": "code",
      "metadata": {
        "id": "fGPsnhTpFvPS",
        "colab_type": "code",
        "colab": {}
      },
      "source": [
        "class Regressors:\n",
        "    def __init__(self, Xtrain, Xtest, Ytrain, Ytest):\n",
        "        \"\"\"Initializing\"\"\"\n",
        "        self.Xtrain = Xtrain\n",
        "        self.Xtest = Xtest\n",
        "        self.Ytrain = Ytrain\n",
        "        self.Ytest = Ytest\n",
        "\n",
        "    def def_xgboost(self, estimators):\n",
        "        \"\"\"Defining the XGBoosting regressor\"\"\"\n",
        "        xgb_ = xgb.XGBRegressor(objective ='reg:linear', learning_rate=0.01, max_depth=3, n_estimators=estimators)\n",
        "        xgb_.fit(self.Xtrain, self.Ytrain)\n",
        "        pred = xgb_.predict(self.Xtest)\n",
        "        \n",
        "        return pred\n",
        "\n",
        "    def def_RandomForestRegressor(self, estimators):\n",
        "        \"\"\"Defining the Random Forest Regeressor\"\"\"\n",
        "        rfr_ = RandomForestRegressor(n_estimators=estimators, max_depth=3)\n",
        "        rfr_.fit(self.Xtrain, self.Ytrain)\n",
        "        pred = rfr_.predict(self.Xtest)\n",
        "\n",
        "        return pred\n",
        "\n",
        "    def def_GradientBoostingRegressor(self, estimators):\n",
        "        \"\"\"Defining the Gradient Boosting Regressor\"\"\"\n",
        "        gbr_ = GradientBoostingRegressor(n_estimators=estimators, max_depth=3)\n",
        "        gbr_.fit(self.Xtrain, self.Ytrain)\n",
        "        pred = gbr_.predict(self.Xtest)\n",
        "\n",
        "        return pred\n",
        "\n",
        "    def def_AdaBoostRegressor(self, estimators):\n",
        "        \"\"\"Defining Ada Boosting Regressor\"\"\"\n",
        "        abr_ = AdaBoostRegressor(n_estimators=estimators)\n",
        "        abr_.fit(self.Xtrain, self.Ytrain)\n",
        "        pred = abr_.predict(self.Xtest)\n",
        "\n",
        "        return pred"
      ],
      "execution_count": 0,
      "outputs": []
    },
    {
      "cell_type": "code",
      "metadata": {
        "id": "dZmpp56IF0W4",
        "colab_type": "code",
        "colab": {}
      },
      "source": [
        "def def_metrics(ypred):\n",
        "    mae = mean_absolute_error(Ytest, ypred)\n",
        "    mse = mean_squared_error(Ytest, ypred)\n",
        "\n",
        "    return mae, mse\n",
        "\n",
        "def plot_performance(plot_name, loss_mae, loss_mse):\n",
        "    steps = np.arange(50, 500, 50)\n",
        "    plt.style.use('ggplot')\n",
        "    plt.title(plot_name)\n",
        "    plt.plot(steps, loss_mae, linewidth=3, label=\"MAE\")\n",
        "    plt.plot(steps, loss_mse, linewidth=3, label=\"MSE\")\n",
        "    plt.legend()\n",
        "    plt.ylabel(\"Loss\")\n",
        "    plt.xlabel(\"Number of estimators\")\n",
        "    plt.show()"
      ],
      "execution_count": 0,
      "outputs": []
    },
    {
      "cell_type": "code",
      "metadata": {
        "id": "m7wauDsXF3Da",
        "colab_type": "code",
        "colab": {}
      },
      "source": [
        "\"\"\"Initializing the class\"\"\"\n",
        "model = Regressors(Xtrain, Xtest, Ytrain, Ytest)"
      ],
      "execution_count": 0,
      "outputs": []
    },
    {
      "cell_type": "markdown",
      "metadata": {
        "id": "XvOxpRMjF4bz",
        "colab_type": "text"
      },
      "source": [
        "#### XGBoost and Gradient Boosting"
      ]
    },
    {
      "cell_type": "code",
      "metadata": {
        "id": "9MG5aGQkF8Kd",
        "colab_type": "code",
        "outputId": "23a38e40-6173-4590-9d6f-f0a5e36001ff",
        "colab": {
          "base_uri": "https://localhost:8080/",
          "height": 771
        }
      },
      "source": [
        "plot_name=\"XGBoosting Regressor\"\n",
        "loss_mae, loss_mse = [], []\n",
        "print(plot_name)\n",
        "for est in range(50,500,50):\n",
        "    print(\"Number of estimators: %d\" % est)\n",
        "    mae, mse = def_metrics(model.def_xgboost(estimators = est))\n",
        "    print(\"MAE: \", mae)\n",
        "    print(\"MSE: \", mse)\n",
        "    loss_mae.append(mae)\n",
        "    loss_mse.append(mse)\n",
        "plot_performance(plot_name, loss_mae, loss_mse)"
      ],
      "execution_count": 0,
      "outputs": [
        {
          "output_type": "stream",
          "text": [
            "XGBoosting Regressor\n",
            "Number of estimators: 50\n",
            "MAE:  0.2888066804320755\n",
            "MSE:  0.08360504818876756\n",
            "Number of estimators: 100\n",
            "MAE:  0.17475931468397607\n",
            "MSE:  0.030663107493698515\n",
            "Number of estimators: 150\n",
            "MAE:  0.10579375803818994\n",
            "MSE:  0.0112804596279712\n",
            "Number of estimators: 200\n",
            "MAE:  0.06416962520016152\n",
            "MSE:  0.004182987766296976\n",
            "Number of estimators: 250\n",
            "MAE:  0.03909705000145487\n",
            "MSE:  0.001582574581406642\n",
            "Number of estimators: 300\n",
            "MAE:  0.024044114222322877\n",
            "MSE:  0.0006292596962297839\n",
            "Number of estimators: 350\n",
            "MAE:  0.015165080139953957\n",
            "MSE:  0.00027920448862729495\n",
            "Number of estimators: 400\n",
            "MAE:  0.010128313591601434\n",
            "MSE:  0.0001503723305430472\n",
            "Number of estimators: 450\n",
            "MAE:  0.00738883652909441\n",
            "MSE:  0.00010273934153811595\n"
          ],
          "name": "stdout"
        },
        {
          "output_type": "display_data",
          "data": {
            "image/png": "[encoded data removed]",
            "text/plain": [
              "<Figure size 432x288 with 1 Axes>"
            ]
          },
          "metadata": {
            "tags": []
          }
        }
      ]
    },
    {
      "cell_type": "code",
      "metadata": {
        "id": "eXbaiFoBPana",
        "colab_type": "code",
        "outputId": "f3b33b80-7d45-4d30-ea29-c81751fe981d",
        "colab": {
          "base_uri": "https://localhost:8080/",
          "height": 771
        }
      },
      "source": [
        "plot_name=\"Gradient Boosting Regressor\"\n",
        "loss_mae, loss_mse = [], []\n",
        "print(plot_name)\n",
        "for est in range(50,500,50):\n",
        "    print(\"Number of estimators: %d\" % est)\n",
        "    mae, mse = def_metrics(model.def_xgboost(estimators = est))\n",
        "    print(\"MAE: \", mae)\n",
        "    print(\"MSE: \", mse)\n",
        "    loss_mae.append(mae)\n",
        "    loss_mse.append(mse)\n",
        "plot_performance(plot_name, loss_mae, loss_mse)"
      ],
      "execution_count": 0,
      "outputs": [
        {
          "output_type": "stream",
          "text": [
            "Gradient Boosting Regressor\n",
            "Number of estimators: 50\n",
            "MAE:  0.2888066804320755\n",
            "MSE:  0.08360504818876756\n",
            "Number of estimators: 100\n",
            "MAE:  0.17475931468397607\n",
            "MSE:  0.030663107493698515\n",
            "Number of estimators: 150\n",
            "MAE:  0.10579375803818994\n",
            "MSE:  0.0112804596279712\n",
            "Number of estimators: 200\n",
            "MAE:  0.06416962520016152\n",
            "MSE:  0.004182987766296976\n",
            "Number of estimators: 250\n",
            "MAE:  0.03909705000145487\n",
            "MSE:  0.001582574581406642\n",
            "Number of estimators: 300\n",
            "MAE:  0.024044114222322877\n",
            "MSE:  0.0006292596962297839\n",
            "Number of estimators: 350\n",
            "MAE:  0.015165080139953957\n",
            "MSE:  0.00027920448862729495\n",
            "Number of estimators: 400\n",
            "MAE:  0.010128313591601434\n",
            "MSE:  0.0001503723305430472\n",
            "Number of estimators: 450\n",
            "MAE:  0.00738883652909441\n",
            "MSE:  0.00010273934153811595\n"
          ],
          "name": "stdout"
        },
        {
          "output_type": "display_data",
          "data": {
            "image/png": "[encoded data removed]",
            "text/plain": [
              "<Figure size 432x288 with 1 Axes>"
            ]
          },
          "metadata": {
            "tags": []
          }
        }
      ]
    }
  ]
}